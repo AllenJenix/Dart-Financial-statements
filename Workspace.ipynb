{
 "cells": [
  {
   "cell_type": "code",
   "execution_count": 3,
   "id": "ae59bce9",
   "metadata": {
    "scrolled": true
   },
   "outputs": [],
   "source": [
    "%config Completer.use_jedi = False\n",
    "# 주피터 노트북의 자동완성(탭 키)이 안됄 때 해결법.\n"
   ]
  },
  {
   "cell_type": "code",
   "execution_count": null,
   "id": "01350324",
   "metadata": {},
   "outputs": [],
   "source": [
    "from io import BytesIO\n",
    "import pandas\n",
    "import requests\n"
   ]
  },
  {
   "cell_type": "code",
   "execution_count": 8,
   "id": "6855bcc5",
   "metadata": {},
   "outputs": [],
   "source": [
    "url = \"https://dart.fss.or.kr/pdf/download/excel.do?rcp_no=20220516000897&dcm_no=8662711&lang=ko\"\n",
    "# 재무제표를 다운로드 받는 url\n"
   ]
  },
  {
   "cell_type": "code",
   "execution_count": 9,
   "id": "a6431209",
   "metadata": {},
   "outputs": [],
   "source": [
    "user_agent = \"Mozilla/5.0 (Windows NT 10.0; Win64; x64) AppleWebKit/537.36 (KHTML, like Gecko) Chrome/103.0.0.0 Safari/537.36\"\n",
    "resp = requests.get(url, headers = {\"user-agent\": user_agent})\n",
    "# user_agent\n"
   ]
  },
  {
   "cell_type": "code",
   "execution_count": 10,
   "id": "523f8af0",
   "metadata": {},
   "outputs": [
    {
     "data": {
      "text/html": [
       "<div>\n",
       "<style scoped>\n",
       "    .dataframe tbody tr th:only-of-type {\n",
       "        vertical-align: middle;\n",
       "    }\n",
       "\n",
       "    .dataframe tbody tr th {\n",
       "        vertical-align: top;\n",
       "    }\n",
       "\n",
       "    .dataframe thead th {\n",
       "        text-align: right;\n",
       "    }\n",
       "</style>\n",
       "<table border=\"1\" class=\"dataframe\">\n",
       "  <thead>\n",
       "    <tr style=\"text-align: right;\">\n",
       "      <th></th>\n",
       "      <th>Unnamed: 0</th>\n",
       "      <th>Unnamed: 1</th>\n",
       "      <th>Unnamed: 2</th>\n",
       "      <th>Unnamed: 3</th>\n",
       "      <th>Unnamed: 4</th>\n",
       "      <th>Unnamed: 5</th>\n",
       "    </tr>\n",
       "  </thead>\n",
       "  <tbody>\n",
       "    <tr>\n",
       "      <th>0</th>\n",
       "      <td>문서정보</td>\n",
       "      <td>NaN</td>\n",
       "      <td>NaN</td>\n",
       "      <td>NaN</td>\n",
       "      <td>NaN</td>\n",
       "      <td>NaN</td>\n",
       "    </tr>\n",
       "    <tr>\n",
       "      <th>1</th>\n",
       "      <td>보고서 유형 : 1분기보고서</td>\n",
       "      <td>정정공시여부 : 아니오</td>\n",
       "      <td>NaN</td>\n",
       "      <td>NaN</td>\n",
       "      <td>NaN</td>\n",
       "      <td>NaN</td>\n",
       "    </tr>\n",
       "    <tr>\n",
       "      <th>2</th>\n",
       "      <td>NaN</td>\n",
       "      <td>NaN</td>\n",
       "      <td>NaN</td>\n",
       "      <td>NaN</td>\n",
       "      <td>NaN</td>\n",
       "      <td>NaN</td>\n",
       "    </tr>\n",
       "    <tr>\n",
       "      <th>3</th>\n",
       "      <td>NaN</td>\n",
       "      <td>NaN</td>\n",
       "      <td>NaN</td>\n",
       "      <td>NaN</td>\n",
       "      <td>NaN</td>\n",
       "      <td>NaN</td>\n",
       "    </tr>\n",
       "    <tr>\n",
       "      <th>4</th>\n",
       "      <td>문서작성일 : 2021-05-03</td>\n",
       "      <td>비교표시 재무제표 작성여부 : 예</td>\n",
       "      <td>NaN</td>\n",
       "      <td>NaN</td>\n",
       "      <td>NaN</td>\n",
       "      <td>NaN</td>\n",
       "    </tr>\n",
       "    <tr>\n",
       "      <th>...</th>\n",
       "      <td>...</td>\n",
       "      <td>...</td>\n",
       "      <td>...</td>\n",
       "      <td>...</td>\n",
       "      <td>...</td>\n",
       "      <td>...</td>\n",
       "    </tr>\n",
       "    <tr>\n",
       "      <th>62</th>\n",
       "      <td>재무상태표</td>\n",
       "      <td>유동/비유동법</td>\n",
       "      <td>NaN</td>\n",
       "      <td>NaN</td>\n",
       "      <td>NaN</td>\n",
       "      <td>NaN</td>\n",
       "    </tr>\n",
       "    <tr>\n",
       "      <th>63</th>\n",
       "      <td>포괄손익계산서</td>\n",
       "      <td>손익/기타포괄손익 개별작성</td>\n",
       "      <td>NaN</td>\n",
       "      <td>NaN</td>\n",
       "      <td>NaN</td>\n",
       "      <td>NaN</td>\n",
       "    </tr>\n",
       "    <tr>\n",
       "      <th>64</th>\n",
       "      <td>NaN</td>\n",
       "      <td>비용의 기능</td>\n",
       "      <td>NaN</td>\n",
       "      <td>NaN</td>\n",
       "      <td>NaN</td>\n",
       "      <td>NaN</td>\n",
       "    </tr>\n",
       "    <tr>\n",
       "      <th>65</th>\n",
       "      <td>NaN</td>\n",
       "      <td>세전기타포괄손익</td>\n",
       "      <td>NaN</td>\n",
       "      <td>NaN</td>\n",
       "      <td>NaN</td>\n",
       "      <td>NaN</td>\n",
       "    </tr>\n",
       "    <tr>\n",
       "      <th>66</th>\n",
       "      <td>현금흐름표</td>\n",
       "      <td>간접법</td>\n",
       "      <td>NaN</td>\n",
       "      <td>NaN</td>\n",
       "      <td>NaN</td>\n",
       "      <td>NaN</td>\n",
       "    </tr>\n",
       "  </tbody>\n",
       "</table>\n",
       "<p>67 rows × 6 columns</p>\n",
       "</div>"
      ],
      "text/plain": [
       "            Unnamed: 0          Unnamed: 1 Unnamed: 2 Unnamed: 3 Unnamed: 4  \\\n",
       "0                 문서정보                 NaN        NaN        NaN        NaN   \n",
       "1      보고서 유형 : 1분기보고서        정정공시여부 : 아니오        NaN        NaN        NaN   \n",
       "2                  NaN                 NaN        NaN        NaN        NaN   \n",
       "3                  NaN                 NaN        NaN        NaN        NaN   \n",
       "4   문서작성일 : 2021-05-03  비교표시 재무제표 작성여부 : 예        NaN        NaN        NaN   \n",
       "..                 ...                 ...        ...        ...        ...   \n",
       "62               재무상태표             유동/비유동법        NaN        NaN        NaN   \n",
       "63             포괄손익계산서      손익/기타포괄손익 개별작성        NaN        NaN        NaN   \n",
       "64                 NaN              비용의 기능        NaN        NaN        NaN   \n",
       "65                 NaN            세전기타포괄손익        NaN        NaN        NaN   \n",
       "66               현금흐름표                 간접법        NaN        NaN        NaN   \n",
       "\n",
       "   Unnamed: 5  \n",
       "0         NaN  \n",
       "1         NaN  \n",
       "2         NaN  \n",
       "3         NaN  \n",
       "4         NaN  \n",
       "..        ...  \n",
       "62        NaN  \n",
       "63        NaN  \n",
       "64        NaN  \n",
       "65        NaN  \n",
       "66        NaN  \n",
       "\n",
       "[67 rows x 6 columns]"
      ]
     },
     "execution_count": 10,
     "metadata": {},
     "output_type": "execute_result"
    }
   ],
   "source": [
    "table = BytesIO(resp.content)\n",
    "\n",
    "pandas.read_excel(table)\n"
   ]
  },
  {
   "cell_type": "code",
   "execution_count": 15,
   "id": "9f33368e",
   "metadata": {},
   "outputs": [],
   "source": [
    "data = pandas.read_excel(table, sheet_name = \"연결 재무상태표\", skiprows = 4)\n",
    "# sheet_name은 말그대로 excel파일의 여러개 시트 중 지정된 이름의 시트를 연다.\n"
   ]
  },
  {
   "cell_type": "code",
   "execution_count": 27,
   "id": "fef6400a",
   "metadata": {},
   "outputs": [],
   "source": [
    "data.to_excel(\"연결재무제표.xlsx\")\n",
    "# 데이터 프레임을 엑셀로 저장.\n"
   ]
  },
  {
   "cell_type": "code",
   "execution_count": 31,
   "id": "4bc0c6e9",
   "metadata": {},
   "outputs": [],
   "source": [
    "name_of_sheet = [\"연결 재무상태표\", \"연결 손익계산서\", \"연결 포괄손익계산서\", \"연결 자본변동표\", \"연결 현금흐름표\"]\n",
    "\n",
    "for sheet in name_of_sheet:\n",
    "    data = pandas.read_excel(table, sheet_name = sheet, skiprows = 5)\n",
    "    data.to_csv(sheet + \".csv\", encoding = \"euc-kr\")\n",
    "# 데이터 프레임을 엑셀로 저장하는 과정을 시트별로 자동화.\n"
   ]
  },
  {
   "cell_type": "code",
   "execution_count": null,
   "id": "1e5b6bd7",
   "metadata": {},
   "outputs": [],
   "source": []
  },
  {
   "cell_type": "code",
   "execution_count": null,
   "id": "85dd1b09",
   "metadata": {},
   "outputs": [],
   "source": []
  },
  {
   "cell_type": "code",
   "execution_count": null,
   "id": "8d68ffb6",
   "metadata": {},
   "outputs": [],
   "source": []
  },
  {
   "cell_type": "code",
   "execution_count": null,
   "id": "259d8c1e",
   "metadata": {},
   "outputs": [],
   "source": []
  }
 ],
 "metadata": {
  "kernelspec": {
   "display_name": "Python 3 (ipykernel)",
   "language": "python",
   "name": "python3"
  },
  "language_info": {
   "codemirror_mode": {
    "name": "ipython",
    "version": 3
   },
   "file_extension": ".py",
   "mimetype": "text/x-python",
   "name": "python",
   "nbconvert_exporter": "python",
   "pygments_lexer": "ipython3",
   "version": "3.10.0"
  }
 },
 "nbformat": 4,
 "nbformat_minor": 5
}
